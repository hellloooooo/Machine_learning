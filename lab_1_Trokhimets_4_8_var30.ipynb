{
  "cells": [
    {
      "cell_type": "markdown",
      "metadata": {
        "id": "view-in-github",
        "colab_type": "text"
      },
      "source": [
        "<a href=\"https://colab.research.google.com/github/hellloooooo/jjjjjjjj/blob/main/lab_1_Trokhimets_4_8_var30.ipynb\" target=\"_parent\"><img src=\"https://colab.research.google.com/assets/colab-badge.svg\" alt=\"Open In Colab\"/></a>"
      ]
    },
    {
      "cell_type": "code",
      "execution_count": null,
      "id": "87a88f6e-0e87-4089-92eb-83c8904ea245",
      "metadata": {
        "id": "87a88f6e-0e87-4089-92eb-83c8904ea245"
      },
      "outputs": [],
      "source": [
        "# Трохимець М.В. ФІТ 4-8 Варіант 9(30)"
      ]
    },
    {
      "cell_type": "code",
      "execution_count": null,
      "id": "8ead3aa1-6f35-4e11-a296-5422bc269e25",
      "metadata": {
        "trusted": true,
        "id": "8ead3aa1-6f35-4e11-a296-5422bc269e25"
      },
      "outputs": [],
      "source": [
        "import numpy as np"
      ]
    },
    {
      "cell_type": "markdown",
      "source": [
        "Створіть одновимірний масив (вектор) з числами Фібоначчі, де кожне число дорівнює сумі двох попередніх, та виведіть його значення.\n"
      ],
      "metadata": {
        "id": "8-MfYl-4SiRz"
      },
      "id": "8-MfYl-4SiRz"
    },
    {
      "cell_type": "code",
      "execution_count": null,
      "id": "bd2cb431-c94b-4b09-a015-4791c9d16470",
      "metadata": {
        "trusted": true,
        "colab": {
          "base_uri": "https://localhost:8080/"
        },
        "id": "bd2cb431-c94b-4b09-a015-4791c9d16470",
        "outputId": "d0434da7-621b-4763-aa05-b53299befc87"
      },
      "outputs": [
        {
          "output_type": "stream",
          "name": "stdout",
          "text": [
            "[ 0  1  1  2  3  5  8 13 21 34]\n"
          ]
        }
      ],
      "source": [
        "def fibonacci_arr(n):\n",
        "    fib_arr = np.zeros(n, dtype=int)\n",
        "    fib_arr[0] = 0\n",
        "    if n > 1:\n",
        "        fib_arr[1] = 1\n",
        "        for i in range(2, n):\n",
        "            fib_arr[i] = fib_arr[i-1] + fib_arr[i-2]\n",
        "    return fib_arr\n",
        "\n",
        "n = 10\n",
        "fib_arr = fibonacci_arr(n)\n",
        "print(fib_arr)\n"
      ]
    },
    {
      "cell_type": "markdown",
      "source": [
        "\n",
        "2 Створіть двовимірний масив (матрицю) розміром 3x3, заповніть його значеннями експонент n^2 для кожного натурального числа n,\n",
        "починаючи з 1, та виведіть його значення."
      ],
      "metadata": {
        "id": "2O6wVVxkSsgF"
      },
      "id": "2O6wVVxkSsgF"
    },
    {
      "cell_type": "code",
      "execution_count": null,
      "id": "c3b2dbe6-93c4-4462-9ab7-d3ea94a51846",
      "metadata": {
        "trusted": true,
        "colab": {
          "base_uri": "https://localhost:8080/"
        },
        "id": "c3b2dbe6-93c4-4462-9ab7-d3ea94a51846",
        "outputId": "91a2b9ed-b1aa-4c4f-c7cc-a74afaadb872"
      },
      "outputs": [
        {
          "output_type": "stream",
          "name": "stdout",
          "text": [
            "[[ 1  4  9]\n",
            " [16 25 36]\n",
            " [49 64 81]]\n"
          ]
        }
      ],
      "source": [
        "def matrix(n):\n",
        "    arr1 = np.arange(1, 10)\n",
        "    arr1 = arr1 ** 2\n",
        "    matrix = arr1.reshape(3, 3)\n",
        "\n",
        "    return matrix\n",
        "\n",
        "arr1 = matrix(n)\n",
        "print(arr1)\n"
      ]
    },
    {
      "cell_type": "markdown",
      "source": [
        "3 Створіть масив розміром 3x3, заповніть його випадковими дійсними числами від -1 до 1 та виведіть його значення."
      ],
      "metadata": {
        "id": "SU6LLxwyS2fI"
      },
      "id": "SU6LLxwyS2fI"
    },
    {
      "cell_type": "code",
      "execution_count": null,
      "id": "37b31e63-b662-4dc5-bdfa-6c8677849889",
      "metadata": {
        "trusted": true,
        "colab": {
          "base_uri": "https://localhost:8080/"
        },
        "id": "37b31e63-b662-4dc5-bdfa-6c8677849889",
        "outputId": "7b7cb8c6-245f-45a6-f2b7-0fb8420439cc"
      },
      "outputs": [
        {
          "output_type": "stream",
          "name": "stdout",
          "text": [
            "[[-0.61532965  0.75050089 -0.94214962]\n",
            " [ 0.02101499  0.03821178  0.00574284]\n",
            " [ 0.53014119  0.69676739 -0.81953085]]\n"
          ]
        }
      ],
      "source": [
        "matrix = np.random.rand(3, 3)\n",
        "matrix = 2 * matrix - 1\n",
        "print(matrix)"
      ]
    },
    {
      "cell_type": "markdown",
      "source": [
        "4 Створіть масив розміром 3x3, заповніть його випадковими дійсними числами в\n",
        "діапазоні від 0 до 1 та знайдіть середнє геометричне всіх елементів."
      ],
      "metadata": {
        "id": "aAnNDCwMS8sZ"
      },
      "id": "aAnNDCwMS8sZ"
    },
    {
      "cell_type": "code",
      "execution_count": null,
      "id": "3f513782-1ba5-4186-8352-cf55b2c077d5",
      "metadata": {
        "trusted": true,
        "colab": {
          "base_uri": "https://localhost:8080/"
        },
        "id": "3f513782-1ba5-4186-8352-cf55b2c077d5",
        "outputId": "d503f6db-3da6-4c60-cbf6-43b5c81cb45c"
      },
      "outputs": [
        {
          "output_type": "stream",
          "name": "stdout",
          "text": [
            "Matrix:\n",
            " [[0.88876706 0.84178867 0.43618927]\n",
            " [0.96045431 0.41123786 0.92168165]\n",
            " [0.87506537 0.80563469 0.71257911]]\n",
            "\n",
            "Geometric Mean:\n",
            " 0.7311070003618925\n"
          ]
        }
      ],
      "source": [
        "matrix = np.random.rand(3, 3)\n",
        "product = 1\n",
        "n = 0\n",
        "\n",
        "for i in range(matrix.shape[0]):\n",
        "    for j in range(matrix.shape[1]):\n",
        "        product *= matrix[i, j]\n",
        "        n += 1\n",
        "\n",
        "geometric_mean = product ** (1 / n)\n",
        "\n",
        "print(\"Matrix:\\n\", matrix)\n",
        "print(\"\\nGeometric Mean:\\n\", geometric_mean)\n"
      ]
    },
    {
      "cell_type": "markdown",
      "source": [
        "5 Створіть два одновимірних масиви розміром 6, заповніть їх випадковими дійсними\n",
        "числами від -5 до 5 та виконайте на них поелементні операції додавання, віднімання\n",
        "та множення."
      ],
      "metadata": {
        "id": "XAChGM8lTR8X"
      },
      "id": "XAChGM8lTR8X"
    },
    {
      "cell_type": "code",
      "execution_count": null,
      "id": "78d8c97e-0041-4a98-86df-e389373de4be",
      "metadata": {
        "trusted": true,
        "colab": {
          "base_uri": "https://localhost:8080/"
        },
        "id": "78d8c97e-0041-4a98-86df-e389373de4be",
        "outputId": "860f99ce-e8dc-4339-b34a-53997d4a6c80"
      },
      "outputs": [
        {
          "output_type": "stream",
          "name": "stdout",
          "text": [
            "arr1 = [-2.55245185  0.67269015  4.96885735 -3.36065224  2.15344866  1.40574014]\n",
            "\n",
            "arr2 = [-1.04783069 -0.32174407  3.52385893  1.2394082  -4.77739744 -0.22959531]\n",
            "\n",
            "Sum of elements = [-3.60028254  0.35094608  8.49271628 -2.12124403 -2.62394878  1.17614483]\n",
            "\n",
            "Difference of elements = [-1.50462116  0.99443422  1.44499841 -4.60006044  6.9308461   1.63533545]\n",
            "\n",
            "Product of elements = [  2.67453738  -0.21643406  17.50955235  -4.16521995 -10.28788013\n",
            "  -0.32275135]\n"
          ]
        }
      ],
      "source": [
        "arr1 = np.random.rand(6) * 10 - 5\n",
        "arr2 = np.random.rand(6) * 10 - 5\n",
        "\n",
        "sum_result = arr1 + arr2\n",
        "difference_result = arr1 - arr2\n",
        "product_result = arr1 * arr2\n",
        "\n",
        "print(\"arr1 =\", arr1)\n",
        "print(\"\\narr2 =\", arr2)\n",
        "print(\"\\nSum of elements =\", sum_result)\n",
        "print(\"\\nDifference of elements =\", difference_result)\n",
        "print(\"\\nProduct of elements =\", product_result)"
      ]
    },
    {
      "cell_type": "markdown",
      "source": [
        "6 Створіть дві матриці 5x5, заповніть їх довільними цілими числами від 1 до 10 та\n",
        "знайдіть їх добуток."
      ],
      "metadata": {
        "id": "EtIqMKd_TYJq"
      },
      "id": "EtIqMKd_TYJq"
    },
    {
      "cell_type": "code",
      "execution_count": null,
      "id": "7b96a72f-8654-4055-8a77-c66ffd8f2b62",
      "metadata": {
        "trusted": true,
        "colab": {
          "base_uri": "https://localhost:8080/"
        },
        "id": "7b96a72f-8654-4055-8a77-c66ffd8f2b62",
        "outputId": "1724a413-595d-4e0f-a25c-5d9f056c7e83"
      },
      "outputs": [
        {
          "output_type": "stream",
          "name": "stdout",
          "text": [
            "Matrix 1:\n",
            " [[ 5  5  5  4  9]\n",
            " [ 2  3  8  7  4]\n",
            " [ 4 10  6  3  4]\n",
            " [ 3  9  2  7 10]\n",
            " [ 8  8  7  1  2]]\n",
            "\n",
            "Matrix 2:\n",
            " [[ 9  9 10  4  6]\n",
            " [ 4  1  8  6  8]\n",
            " [ 6  2  5  9  7]\n",
            " [ 3  9 10 10  6]\n",
            " [ 9  2  7  2  4]]\n",
            "\n",
            "Product of Matrix 1 and Matrix 2:\n",
            " [[188 114 218 153 165]\n",
            " [135 108 182 176 150]\n",
            " [157  93 208 168 180]\n",
            " [186 123 252 174 186]\n",
            " [167 107 203 157 175]]\n"
          ]
        }
      ],
      "source": [
        "matrix1 = np.random.randint(1, 11, (5, 5))\n",
        "matrix2 = np.random.randint(1, 11, (5, 5))\n",
        "\n",
        "result = np.dot(matrix1, matrix2)\n",
        "\n",
        "print(\"Matrix 1:\\n\", matrix1)\n",
        "print(\"\\nMatrix 2:\\n\", matrix2)\n",
        "print(\"\\nProduct of Matrix 1 and Matrix 2:\\n\", result)"
      ]
    },
    {
      "cell_type": "code",
      "execution_count": null,
      "id": "624b4fb9-4f22-4b98-801b-22d287d422c6",
      "metadata": {
        "trusted": true,
        "colab": {
          "base_uri": "https://localhost:8080/"
        },
        "id": "624b4fb9-4f22-4b98-801b-22d287d422c6",
        "outputId": "55788c9a-3ba7-41e5-c2cc-a99bcb4a12f6"
      },
      "outputs": [
        {
          "output_type": "stream",
          "name": "stdout",
          "text": [
            "Matrix 1 (3x2):\n",
            " [[5 8]\n",
            " [6 6]\n",
            " [2 9]]\n",
            "\n",
            "Matrix 2 (2x4):\n",
            " [[5 1 2 2]\n",
            " [6 9 8 5]]\n",
            "\n",
            "Product of Matrix 1 and Matrix 2 (3x4):\n",
            " [[73 77 74 50]\n",
            " [66 60 60 42]\n",
            " [64 83 76 49]]\n"
          ]
        }
      ],
      "source": [
        "#7 Створіть дві матриці розміром 3x2 та 2x4, заповніть їх випадковими цілими числами\n",
        "# в діапазоні від 1 до 10 та перемножте їх між собою.\n",
        "\n",
        "matrix1 = np.random.randint(1, 11, (3, 2))\n",
        "matrix2 = np.random.randint(1, 11, (2, 4))\n",
        "\n",
        "result = np.dot(matrix1, matrix2)\n",
        "\n",
        "print(\"Matrix 1 (3x2):\\n\", matrix1)\n",
        "print(\"\\nMatrix 2 (2x4):\\n\", matrix2)\n",
        "print(\"\\nProduct of Matrix 1 and Matrix 2 (3x4):\\n\", result)\n"
      ]
    },
    {
      "cell_type": "markdown",
      "source": [
        "8 Створіть матрицю розміром 2x2, заповніть її випадковими цілими числами в діапазоні від 1 до 15 та знайдіть її обернену матрицю."
      ],
      "metadata": {
        "id": "WVUlHAefTzcb"
      },
      "id": "WVUlHAefTzcb"
    },
    {
      "cell_type": "code",
      "execution_count": null,
      "id": "3f9cd28b-ea65-4c59-8072-f3fc109ac53e",
      "metadata": {
        "trusted": true,
        "colab": {
          "base_uri": "https://localhost:8080/"
        },
        "id": "3f9cd28b-ea65-4c59-8072-f3fc109ac53e",
        "outputId": "fb345569-07d3-4044-b183-5076b8a78ca3"
      },
      "outputs": [
        {
          "output_type": "stream",
          "name": "stdout",
          "text": [
            "Original Matrix (2x2):\n",
            " [[ 7 12]\n",
            " [11 12]]\n",
            "\n",
            "Inverse Matrix (2x2):\n",
            " [[-0.25        0.25      ]\n",
            " [ 0.22916667 -0.14583333]]\n"
          ]
        }
      ],
      "source": [
        "matrix = np.random.randint(1, 16, (2, 2))\n",
        "\n",
        "inverse_matrix = np.linalg.inv(matrix)\n",
        "\n",
        "print(\"Original Matrix (2x2):\\n\", matrix)\n",
        "print(\"\\nInverse Matrix (2x2):\\n\", inverse_matrix)\n"
      ]
    },
    {
      "cell_type": "markdown",
      "source": [
        "9 Створіть матрицю розміром 3x3, заповніть її випадковими цілими числами в діапазоні від 7 до 15 та транспонуйте її."
      ],
      "metadata": {
        "id": "BEHX912EUCSm"
      },
      "id": "BEHX912EUCSm"
    },
    {
      "cell_type": "code",
      "execution_count": null,
      "id": "bcae7280-858c-411b-83a7-c4d0fc8f2adb",
      "metadata": {
        "trusted": true,
        "colab": {
          "base_uri": "https://localhost:8080/"
        },
        "id": "bcae7280-858c-411b-83a7-c4d0fc8f2adb",
        "outputId": "1ecb172e-d0d7-4d6a-bfec-f4dafd59d36c"
      },
      "outputs": [
        {
          "output_type": "stream",
          "name": "stdout",
          "text": [
            "Original Matrix (3x3):\n",
            " [[15  7 10]\n",
            " [ 7 14 10]\n",
            " [ 9  7 10]]\n",
            "\n",
            "Transposed Matrix (3x3):\n",
            " [[15  7  9]\n",
            " [ 7 14  7]\n",
            " [10 10 10]]\n"
          ]
        }
      ],
      "source": [
        "matrix = np.random.randint(7, 16, (3, 3))\n",
        "\n",
        "transposed_matrix = np.transpose(matrix)\n",
        "\n",
        "print(\"Original Matrix (3x3):\\n\", matrix)\n",
        "print(\"\\nTransposed Matrix (3x3):\\n\", transposed_matrix)\n"
      ]
    },
    {
      "cell_type": "code",
      "execution_count": null,
      "id": "98d75cf3-9b10-4d4b-8507-441443a79790",
      "metadata": {
        "trusted": true,
        "colab": {
          "base_uri": "https://localhost:8080/"
        },
        "id": "98d75cf3-9b10-4d4b-8507-441443a79790",
        "outputId": "96656b6a-9bd6-439a-fcaa-2717fdcbad98"
      },
      "outputs": [
        {
          "output_type": "stream",
          "name": "stdout",
          "text": [
            "Matrix (3x4):\n",
            " [[0.43425262 0.84129623 0.98612111 0.09144912]\n",
            " [0.59412339 0.36890735 0.23145966 0.1867864 ]\n",
            " [0.71356952 0.24807962 0.12261058 0.47188728]]\n",
            "\n",
            "Vector (4x1):\n",
            " [[8]\n",
            " [5]\n",
            " [3]\n",
            " [8]]\n",
            "\n",
            "Product of Matrix and Vector:\n",
            " [[11.37045849]\n",
            " [ 8.78619404]\n",
            " [11.0918843 ]]\n"
          ]
        }
      ],
      "source": [
        "#10 Створіть матрицю розміром 3x4 та вектор розміром 4x1, заповніть матрицю випадковими дійсними числами від 0 до 1,\n",
        "# а вектор - випадковими цілими числами в діапазоні від 1 до 10 і знайдіть добуток матриці на вектор.\n",
        "\n",
        "matrix = np.random.rand(3, 4)\n",
        "vector = np.random.randint(1, 11, (4, 1))\n",
        "\n",
        "result = np.dot(matrix, vector)\n",
        "\n",
        "print(\"Matrix (3x4):\\n\", matrix)\n",
        "print(\"\\nVector (4x1):\\n\", vector)\n",
        "print(\"\\nProduct of Matrix and Vector:\\n\", result)\n"
      ]
    },
    {
      "cell_type": "code",
      "execution_count": null,
      "id": "04f1dc56-d4b5-4493-b88b-bbe9d95c6290",
      "metadata": {
        "trusted": true,
        "colab": {
          "base_uri": "https://localhost:8080/"
        },
        "id": "04f1dc56-d4b5-4493-b88b-bbe9d95c6290",
        "outputId": "eae0c2f2-a6a7-4d71-f1a9-09732f110bbc"
      },
      "outputs": [
        {
          "output_type": "stream",
          "name": "stdout",
          "text": [
            "Matrix (2x3):\n",
            " [[0.26766559 0.3149049  0.92851292]\n",
            " [0.90389669 0.62644391 0.43286215]]\n",
            "\n",
            "Vector (3x1):\n",
            " [[7]\n",
            " [2]\n",
            " [7]]\n",
            "\n",
            "Product of Matrix and Vector:\n",
            " [[ 9.00305931]\n",
            " [10.61019966]]\n"
          ]
        }
      ],
      "source": [
        "#11 Створіть матрицю розміром 2x3 та вектор розміром 3x1, заповніть матрицю випадковими дійсними числами від 0 до 1,\n",
        "# а вектор - випадковими цілими числами в діапазоні від 1 до 10, і знайдіть добуток матриці на вектор.\n",
        "\n",
        "matrix = np.random.rand(2, 3)\n",
        "vector = np.random.randint(1, 11, (3, 1))\n",
        "\n",
        "result = np.dot(matrix, vector)\n",
        "\n",
        "print(\"Matrix (2x3):\\n\", matrix)\n",
        "print(\"\\nVector (3x1):\\n\", vector)\n",
        "print(\"\\nProduct of Matrix and Vector:\\n\", result)\n"
      ]
    },
    {
      "cell_type": "code",
      "execution_count": null,
      "id": "f455c7f6-b10e-4a95-a718-3cb9903d870b",
      "metadata": {
        "trusted": true,
        "colab": {
          "base_uri": "https://localhost:8080/"
        },
        "id": "f455c7f6-b10e-4a95-a718-3cb9903d870b",
        "outputId": "3c4f2cd6-8356-47f2-84d3-ecdf76ba3913"
      },
      "outputs": [
        {
          "output_type": "stream",
          "name": "stdout",
          "text": [
            "Matrix 1 (2x2):\n",
            " [[2 4]\n",
            " [9 2]]\n",
            "\n",
            "Matrix 2 (2x2):\n",
            " [[2 6]\n",
            " [2 4]]\n",
            "\n",
            "Sum of all elements in both matrices:\n",
            " 31\n"
          ]
        }
      ],
      "source": [
        "#12 Створіть дві матриці розміром 2x2, заповніть їх випадковими цілими числами в\n",
        "# діапазоні від 1 до 10 та знайдіть суму всіх елементів обох матриць.\n",
        "\n",
        "matrix1 = np.random.randint(1, 11, (2, 2))\n",
        "matrix2 = np.random.randint(1, 11, (2, 2))\n",
        "\n",
        "total_sum = np.sum(matrix1) + np.sum(matrix2)\n",
        "\n",
        "print(\"Matrix 1 (2x2):\\n\", matrix1)\n",
        "print(\"\\nMatrix 2 (2x2):\\n\", matrix2)\n",
        "print(\"\\nSum of all elements in both matrices:\\n\", total_sum)\n"
      ]
    },
    {
      "cell_type": "code",
      "execution_count": null,
      "id": "7972bfb7-8fac-4a42-8dad-518a643ca007",
      "metadata": {
        "trusted": true,
        "colab": {
          "base_uri": "https://localhost:8080/"
        },
        "id": "7972bfb7-8fac-4a42-8dad-518a643ca007",
        "outputId": "6551612c-cf1c-42e2-8dec-0dfcd5c59e92"
      },
      "outputs": [
        {
          "output_type": "stream",
          "name": "stdout",
          "text": [
            "Matrix 1 (10x10):\n",
            " [[-1.78769152 -1.43107219 -1.31421884 -0.99900764  0.21155321  1.68559676\n",
            "  -1.61546899 -1.3088886   0.18053471 -0.00527901]\n",
            " [ 1.05057365  1.29492788  0.7338354  -0.8792781   0.24302256 -1.01249467\n",
            "  -0.88802994  0.34281908  1.9462205   1.86297681]\n",
            " [ 1.94374879 -0.23905057 -0.92742669  1.47085822  1.9532612   0.07514692\n",
            "  -1.24201361  0.95615302  0.87974832  1.67305239]\n",
            " [ 0.31750577  0.73213911 -1.41187532  0.75907793  1.02298588 -0.35607179\n",
            "  -1.55323257  1.00593033  0.03387996  1.82199674]\n",
            " [ 1.06587027 -0.50003053  0.2184921  -0.90673045 -1.69617281 -1.48311966\n",
            "  -1.5361777  -0.67378215 -0.69767551 -1.65873444]\n",
            " [ 1.87334467  0.19142634 -1.32207819  0.48325894 -0.00298225 -1.45065098\n",
            "  -1.01663837  1.5152076  -1.58882058  0.81227443]\n",
            " [ 1.9693994   0.65086462  0.93790558  0.43846477 -0.34145119 -1.2079757\n",
            "  -0.07296776 -1.45900143 -0.54968625 -1.37958537]\n",
            " [-1.73233446  1.58486542  0.94307984  1.45599634  0.97355857  1.85752549\n",
            "   1.20345622 -1.06551007 -1.19024326  1.37984601]\n",
            " [-0.36948217  0.94569363 -1.84885945  0.29850044 -0.52183845 -0.49046976\n",
            "   1.83234281 -0.74102226 -0.70831587 -1.06203641]\n",
            " [-1.43584374  1.59550304 -1.6992568  -0.91018558  0.57674152 -1.53916996\n",
            "  -0.52048673  0.85454638  0.15464244  1.76291505]]\n",
            "\n",
            "Matrix 2 (10x10):\n",
            " [[-1.29825728 -1.96081739 -1.10412088 -1.64110425  0.47340355 -1.9946062\n",
            "   0.38342397 -1.40103473 -1.68610247  0.85758499]\n",
            " [ 1.17767933  0.19488711 -0.7219979   1.28488327 -1.99597199 -1.93590387\n",
            "  -1.74231443 -0.80112931 -1.65172928  0.09460033]\n",
            " [-1.0632684   1.76686058  0.22989856 -0.79069389 -1.42807405  0.27822595\n",
            "   0.80820911 -1.47669794  1.10736025 -0.69574695]\n",
            " [-0.7714424   1.75392867  0.89065215 -1.13092321 -1.13826918 -1.40506383\n",
            "  -1.71575545  0.43370431 -1.39877513 -0.39938473]\n",
            " [-1.20644428  1.89535753  1.67067796 -1.74413261 -1.16177578  1.93903392\n",
            "   1.80631323  0.62448974 -0.00336759  0.57328585]\n",
            " [ 1.95242554  1.38785698 -1.31985305 -0.25655546  1.46198341  1.02361913\n",
            "   0.86418119 -0.12528875 -1.90879205  0.76908647]\n",
            " [-0.32067175  0.91066179  1.10469834 -1.31747962  0.28794183 -1.71662172\n",
            "   1.4085322  -0.45927871 -1.40953336 -1.9661801 ]\n",
            " [ 0.9005688  -1.0736562  -0.51934963  1.97576694 -1.15512584  1.79942556\n",
            "   0.67370232 -1.51986809  0.86187692 -1.23018802]\n",
            " [ 0.85028835 -0.23445923  0.54337891 -0.63796419  1.23281898 -0.98754247\n",
            "  -0.39394082 -1.98178797 -1.64149566  1.51730859]\n",
            " [-0.26727072 -1.98455913  1.17560916 -1.88801557 -0.65134715 -1.31928474\n",
            "   0.47856096  1.62187282 -1.11829705 -1.90747634]]\n",
            "\n",
            "Product of Matrix 1 and Matrix 2 (10x10):\n",
            " [[  5.33356711   1.79484466  -1.06909182   1.8996281    8.51533407\n",
            "    9.75637681   1.06772778   7.44439374   2.96039525   6.13300348]\n",
            " [ -0.46044255  -8.32806944   1.12165751  -2.72187167  -3.36280597\n",
            "   -5.96638598  -1.08265022  -4.64434694  -3.66678752   0.94841652]\n",
            " [ -3.6031298   -4.79452655   2.86362123  -8.04772321  -2.57914302\n",
            "   -1.09798436   0.83057065   0.77328151  -6.85725253   2.28901927]\n",
            " [  0.38208795  -6.31665404   1.57344377  -0.44305156  -4.62204586\n",
            "    0.14831833  -2.70872811   4.13859935  -2.73048091  -0.27425187]\n",
            " [ -2.61889018  -5.8850287   -6.12564756   6.06930457   2.58126799\n",
            "   -0.32831994  -4.46994489  -2.26007388   7.96045463   4.91853964]\n",
            " [ -3.87991396 -10.93537368  -1.98888848   1.86093217  -4.8054387\n",
            "   -1.67561746  -2.16846649   2.19392727   1.59276425  -2.59112031]\n",
            " [ -6.46151524   0.734492    -2.25775636  -2.5588764   -1.689382\n",
            "   -7.57910338  -3.56322998  -3.43449801  -0.37298665   3.53384802]\n",
            " [  1.71532885  12.12949761   4.31511315  -5.22413937  -6.19171885\n",
            "   -2.23521797   0.30880601   6.43491421  -6.44201476  -6.08004166]\n",
            " [  1.42758441   1.23388282   0.11711016   2.56061347   1.32935405\n",
            "   -5.91976351  -3.30977041   2.32121385  -3.33702011  -1.47669759]\n",
            " [  3.14788437  -7.4417394    3.36484664   5.11536288  -5.4164995\n",
            "    0.07675987  -2.80511982   4.89401633   1.3579589   -3.5437335 ]]\n"
          ]
        }
      ],
      "source": [
        "#13 Створіть дві матриці розміром 10x10, заповніть їх випадковими дійсними числами в\n",
        "# діапазоні від -2 до 2 та знайдіть їх добуток.\n",
        "\n",
        "matrix1 = np.random.uniform(-2, 2, (10, 10))\n",
        "matrix2 = np.random.uniform(-2, 2, (10, 10))\n",
        "\n",
        "product_matrix = np.dot(matrix1, matrix2)\n",
        "\n",
        "print(\"Matrix 1 (10x10):\\n\", matrix1)\n",
        "print(\"\\nMatrix 2 (10x10):\\n\", matrix2)\n",
        "print(\"\\nProduct of Matrix 1 and Matrix 2 (10x10):\\n\", product_matrix)\n"
      ]
    },
    {
      "cell_type": "code",
      "execution_count": null,
      "id": "518dc695-e359-4a10-80aa-e062df4506b7",
      "metadata": {
        "trusted": true,
        "colab": {
          "base_uri": "https://localhost:8080/"
        },
        "id": "518dc695-e359-4a10-80aa-e062df4506b7",
        "outputId": "1f91d58f-36d3-451d-f2b4-7a9f7fac9005"
      },
      "outputs": [
        {
          "output_type": "stream",
          "name": "stdout",
          "text": [
            "Matrix (3x3):\n",
            " [[ 0.93112334  0.18101817 -0.40778477]\n",
            " [ 0.10581223  0.39124862 -0.25419072]\n",
            " [-0.18830751 -0.93761729 -0.24603911]]\n",
            "\n",
            "Average value of the elements in the matrix:\n",
            " -0.04719300416126843\n"
          ]
        }
      ],
      "source": [
        "#14 Створіть матрицю розміром 3x3, заповніть її випадковими дійсними числами в\n",
        "# діапазоні від -1 до 1 та знайдіть середнє арифметичне значення елементів матриці.\n",
        "\n",
        "matrix = np.random.uniform(-1, 1, (3, 3))\n",
        "\n",
        "average_value = np.mean(matrix)\n",
        "\n",
        "print(\"Matrix (3x3):\\n\", matrix)\n",
        "print(\"\\nAverage value of the elements in the matrix:\\n\", average_value)\n"
      ]
    },
    {
      "cell_type": "code",
      "execution_count": null,
      "id": "7311ab42-f6c6-4994-8a79-dd9bbe490ed7",
      "metadata": {
        "trusted": true,
        "colab": {
          "base_uri": "https://localhost:8080/"
        },
        "id": "7311ab42-f6c6-4994-8a79-dd9bbe490ed7",
        "outputId": "f54941cb-e752-4f76-9efd-6c0c4e4b87dc"
      },
      "outputs": [
        {
          "output_type": "stream",
          "name": "stdout",
          "text": [
            "Matrix (3x3):\n",
            " [[0.18223557 0.89373544 0.93306512]\n",
            " [0.07397922 0.0461654  0.6294525 ]\n",
            " [0.32452493 0.64926164 0.39715332]]\n",
            "\n",
            "Column vector with sum of squares of each row:\n",
            " [[1.70258336]\n",
            " [0.40381462]\n",
            " [0.68458787]]\n"
          ]
        }
      ],
      "source": [
        "#15 Створіть матрицю розміром 3x3, заповніть її випадковими дійсними числами в діапазоні від 0 до 1 та знайдіть вектор-стовпчик,\n",
        "# що містить суму квадратів елементів кожного рядка матриці\n",
        "\n",
        "matrix = np.random.uniform(0, 1, (3, 3))\n",
        "\n",
        "sum_of_squares = np.sum(matrix**2, axis=1)\n",
        "column_vector = sum_of_squares[:, np.newaxis]\n",
        "\n",
        "print(\"Matrix (3x3):\\n\", matrix)\n",
        "print(\"\\nColumn vector with sum of squares of each row:\\n\", column_vector)\n"
      ]
    },
    {
      "cell_type": "code",
      "execution_count": null,
      "id": "6fc6c91a-0eed-42de-8273-4cad5d471fff",
      "metadata": {
        "trusted": true,
        "id": "6fc6c91a-0eed-42de-8273-4cad5d471fff"
      },
      "outputs": [],
      "source": [
        "# Висновок: виконавши дану лабораторну роботу,я освоїв методи та дії над матрицями."
      ]
    }
  ],
  "metadata": {
    "kernelspec": {
      "display_name": "Python 3",
      "name": "python3"
    },
    "language_info": {
      "name": "python"
    },
    "colab": {
      "provenance": [],
      "toc_visible": true,
      "include_colab_link": true
    }
  },
  "nbformat": 4,
  "nbformat_minor": 5
}