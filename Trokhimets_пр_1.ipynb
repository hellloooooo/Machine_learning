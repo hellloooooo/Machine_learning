{
  "cells": [
    {
      "cell_type": "markdown",
      "metadata": {
        "id": "view-in-github",
        "colab_type": "text"
      },
      "source": [
        "<a href=\"https://colab.research.google.com/github/hellloooooo/Machine_learning/blob/main/Trokhimets_%D0%BF%D1%80_1.ipynb\" target=\"_parent\"><img src=\"https://colab.research.google.com/assets/colab-badge.svg\" alt=\"Open In Colab\"/></a>"
      ]
    },
    {
      "cell_type": "code",
      "execution_count": 1,
      "id": "87a88f6e-0e87-4089-92eb-83c8904ea245",
      "metadata": {
        "id": "87a88f6e-0e87-4089-92eb-83c8904ea245"
      },
      "outputs": [],
      "source": [
        "# Трохимець М.В. ФІТ 4-8 Варіант 9(30)"
      ]
    },
    {
      "cell_type": "code",
      "execution_count": 2,
      "id": "8ead3aa1-6f35-4e11-a296-5422bc269e25",
      "metadata": {
        "trusted": true,
        "id": "8ead3aa1-6f35-4e11-a296-5422bc269e25"
      },
      "outputs": [],
      "source": [
        "import numpy as np"
      ]
    },
    {
      "cell_type": "markdown",
      "source": [
        "Створіть одновимірний масив (вектор) з числами Фібоначчі, де кожне число дорівнює сумі двох попередніх, та виведіть його значення.\n"
      ],
      "metadata": {
        "id": "8-MfYl-4SiRz"
      },
      "id": "8-MfYl-4SiRz"
    },
    {
      "cell_type": "code",
      "execution_count": 3,
      "id": "bd2cb431-c94b-4b09-a015-4791c9d16470",
      "metadata": {
        "trusted": true,
        "colab": {
          "base_uri": "https://localhost:8080/"
        },
        "id": "bd2cb431-c94b-4b09-a015-4791c9d16470",
        "outputId": "c76e49ea-5228-41f0-9798-9cf68cd9a85e"
      },
      "outputs": [
        {
          "output_type": "stream",
          "name": "stdout",
          "text": [
            "[ 0  1  1  2  3  5  8 13 21 34]\n"
          ]
        }
      ],
      "source": [
        "def fibonacci_arr(n):\n",
        "    fib_arr = np.zeros(n, dtype=int)\n",
        "    fib_arr[0] = 0\n",
        "    if n > 1:\n",
        "        fib_arr[1] = 1\n",
        "        for i in range(2, n):\n",
        "            fib_arr[i] = fib_arr[i-1] + fib_arr[i-2]\n",
        "    return fib_arr\n",
        "\n",
        "n = 10\n",
        "fib_arr = fibonacci_arr(n)\n",
        "print(fib_arr)\n"
      ]
    },
    {
      "cell_type": "markdown",
      "source": [
        "\n",
        "2 Створіть двовимірний масив (матрицю) розміром 3x3, заповніть його значеннями експонент n^2 для кожного натурального числа n,\n",
        "починаючи з 1, та виведіть його значення."
      ],
      "metadata": {
        "id": "2O6wVVxkSsgF"
      },
      "id": "2O6wVVxkSsgF"
    },
    {
      "cell_type": "code",
      "execution_count": 4,
      "id": "c3b2dbe6-93c4-4462-9ab7-d3ea94a51846",
      "metadata": {
        "trusted": true,
        "colab": {
          "base_uri": "https://localhost:8080/"
        },
        "id": "c3b2dbe6-93c4-4462-9ab7-d3ea94a51846",
        "outputId": "2261489d-469a-427d-b7d0-c6b885808d90"
      },
      "outputs": [
        {
          "output_type": "stream",
          "name": "stdout",
          "text": [
            "[[ 1  4  9]\n",
            " [16 25 36]\n",
            " [49 64 81]]\n"
          ]
        }
      ],
      "source": [
        "def matrix(n):\n",
        "    arr1 = np.arange(1, 10)\n",
        "    arr1 = arr1 ** 2\n",
        "    matrix = arr1.reshape(3, 3)\n",
        "\n",
        "    return matrix\n",
        "\n",
        "arr1 = matrix(n)\n",
        "print(arr1)\n"
      ]
    },
    {
      "cell_type": "markdown",
      "source": [
        "3 Створіть масив розміром 3x3, заповніть його випадковими дійсними числами від -1 до 1 та виведіть його значення."
      ],
      "metadata": {
        "id": "SU6LLxwyS2fI"
      },
      "id": "SU6LLxwyS2fI"
    },
    {
      "cell_type": "code",
      "execution_count": 5,
      "id": "37b31e63-b662-4dc5-bdfa-6c8677849889",
      "metadata": {
        "trusted": true,
        "colab": {
          "base_uri": "https://localhost:8080/"
        },
        "id": "37b31e63-b662-4dc5-bdfa-6c8677849889",
        "outputId": "9068693c-e711-4d68-ae7e-72006d325bab"
      },
      "outputs": [
        {
          "output_type": "stream",
          "name": "stdout",
          "text": [
            "[[ 0.81441733  0.91174455 -0.53596978]\n",
            " [-0.09468171  0.62870493  0.05680681]\n",
            " [-0.31182011 -0.17953573 -0.19157305]]\n"
          ]
        }
      ],
      "source": [
        "matrix = np.random.rand(3, 3)\n",
        "matrix = 2 * matrix - 1\n",
        "print(matrix)"
      ]
    },
    {
      "cell_type": "markdown",
      "source": [
        "4 Створіть масив розміром 3x3, заповніть його випадковими дійсними числами в\n",
        "діапазоні від 0 до 1 та знайдіть середнє геометричне всіх елементів."
      ],
      "metadata": {
        "id": "aAnNDCwMS8sZ"
      },
      "id": "aAnNDCwMS8sZ"
    },
    {
      "cell_type": "code",
      "execution_count": 6,
      "id": "3f513782-1ba5-4186-8352-cf55b2c077d5",
      "metadata": {
        "trusted": true,
        "colab": {
          "base_uri": "https://localhost:8080/"
        },
        "id": "3f513782-1ba5-4186-8352-cf55b2c077d5",
        "outputId": "415abf38-b68d-49ee-c579-888396dfcb9a"
      },
      "outputs": [
        {
          "output_type": "stream",
          "name": "stdout",
          "text": [
            "Matrix:\n",
            " [[0.55168504 0.14607276 0.64900754]\n",
            " [0.2084601  0.49783584 0.20073416]\n",
            " [0.83313154 0.41123665 0.28162595]]\n",
            "\n",
            "Geometric Mean:\n",
            " 0.36138384594760664\n"
          ]
        }
      ],
      "source": [
        "matrix = np.random.rand(3, 3)\n",
        "product = 1\n",
        "n = 0\n",
        "\n",
        "for i in range(matrix.shape[0]):\n",
        "    for j in range(matrix.shape[1]):\n",
        "        product *= matrix[i, j]\n",
        "        n += 1\n",
        "\n",
        "geometric_mean = product ** (1 / n)\n",
        "\n",
        "print(\"Matrix:\\n\", matrix)\n",
        "print(\"\\nGeometric Mean:\\n\", geometric_mean)\n"
      ]
    },
    {
      "cell_type": "markdown",
      "source": [
        "5 Створіть два одновимірних масиви розміром 6, заповніть їх випадковими дійсними\n",
        "числами від -5 до 5 та виконайте на них поелементні операції додавання, віднімання\n",
        "та множення."
      ],
      "metadata": {
        "id": "XAChGM8lTR8X"
      },
      "id": "XAChGM8lTR8X"
    },
    {
      "cell_type": "code",
      "execution_count": 7,
      "id": "78d8c97e-0041-4a98-86df-e389373de4be",
      "metadata": {
        "trusted": true,
        "colab": {
          "base_uri": "https://localhost:8080/"
        },
        "id": "78d8c97e-0041-4a98-86df-e389373de4be",
        "outputId": "04e06203-2c70-4c42-8dfc-3584550349df"
      },
      "outputs": [
        {
          "output_type": "stream",
          "name": "stdout",
          "text": [
            "arr1 = [-1.70254418 -3.03547473  4.83323765  4.87986642  1.79106159  4.63524607]\n",
            "\n",
            "arr2 = [-0.71075502 -2.04662372  0.69943726 -1.64037691 -0.36068829 -0.68045145]\n",
            "\n",
            "Sum of elements = [-2.4132992  -5.08209845  5.53267491  3.23948951  1.4303733   3.95479462]\n",
            "\n",
            "Difference of elements = [-0.99178916 -0.98885102  4.13380039  6.52024333  2.15174988  5.31569752]\n",
            "\n",
            "Product of elements = [ 1.21009182  6.21247457  3.3805465  -8.00482021 -0.64601494 -3.15405991]\n"
          ]
        }
      ],
      "source": [
        "arr1 = np.random.rand(6) * 10 - 5\n",
        "arr2 = np.random.rand(6) * 10 - 5\n",
        "\n",
        "sum_result = arr1 + arr2\n",
        "difference_result = arr1 - arr2\n",
        "product_result = arr1 * arr2\n",
        "\n",
        "print(\"arr1 =\", arr1)\n",
        "print(\"\\narr2 =\", arr2)\n",
        "print(\"\\nSum of elements =\", sum_result)\n",
        "print(\"\\nDifference of elements =\", difference_result)\n",
        "print(\"\\nProduct of elements =\", product_result)"
      ]
    },
    {
      "cell_type": "markdown",
      "source": [
        "6 Створіть дві матриці 5x5, заповніть їх довільними цілими числами від 1 до 10 та\n",
        "знайдіть їх добуток."
      ],
      "metadata": {
        "id": "EtIqMKd_TYJq"
      },
      "id": "EtIqMKd_TYJq"
    },
    {
      "cell_type": "code",
      "execution_count": 8,
      "id": "7b96a72f-8654-4055-8a77-c66ffd8f2b62",
      "metadata": {
        "trusted": true,
        "colab": {
          "base_uri": "https://localhost:8080/"
        },
        "id": "7b96a72f-8654-4055-8a77-c66ffd8f2b62",
        "outputId": "adee0263-4030-4b97-a73b-38d73cfbafe2"
      },
      "outputs": [
        {
          "output_type": "stream",
          "name": "stdout",
          "text": [
            "Matrix 1:\n",
            " [[ 6  8  4  2  6]\n",
            " [ 8  6  5  7  2]\n",
            " [ 6  6  8  8  6]\n",
            " [ 4  3 10  8  4]\n",
            " [ 5  5  6  9  7]]\n",
            "\n",
            "Matrix 2:\n",
            " [[ 5  5  1  6  7]\n",
            " [ 9  4  7  7  6]\n",
            " [ 8  8  7  7 10]\n",
            " [ 1 10  8  9  9]\n",
            " [ 5  8  6  7  1]]\n",
            "\n",
            "Product of Matrix 1 and Matrix 2:\n",
            " [[166 162 142 180 154]\n",
            " [151 190 153 202 207]\n",
            " [186 246 204 248 236]\n",
            " [155 224 183 215 222]\n",
            " [162 239 196 237 213]]\n"
          ]
        }
      ],
      "source": [
        "matrix1 = np.random.randint(1, 11, (5, 5))\n",
        "matrix2 = np.random.randint(1, 11, (5, 5))\n",
        "\n",
        "result = np.dot(matrix1, matrix2)\n",
        "\n",
        "print(\"Matrix 1:\\n\", matrix1)\n",
        "print(\"\\nMatrix 2:\\n\", matrix2)\n",
        "print(\"\\nProduct of Matrix 1 and Matrix 2:\\n\", result)"
      ]
    },
    {
      "cell_type": "code",
      "execution_count": 9,
      "id": "624b4fb9-4f22-4b98-801b-22d287d422c6",
      "metadata": {
        "trusted": true,
        "colab": {
          "base_uri": "https://localhost:8080/"
        },
        "id": "624b4fb9-4f22-4b98-801b-22d287d422c6",
        "outputId": "5088ffc5-3dad-42d8-9d0d-1259f3079260"
      },
      "outputs": [
        {
          "output_type": "stream",
          "name": "stdout",
          "text": [
            "Matrix 1 (3x2):\n",
            " [[ 5  7]\n",
            " [ 2  2]\n",
            " [10  4]]\n",
            "\n",
            "Matrix 2 (2x4):\n",
            " [[8 8 5 3]\n",
            " [2 7 3 6]]\n",
            "\n",
            "Product of Matrix 1 and Matrix 2 (3x4):\n",
            " [[ 54  89  46  57]\n",
            " [ 20  30  16  18]\n",
            " [ 88 108  62  54]]\n"
          ]
        }
      ],
      "source": [
        "#7 Створіть дві матриці розміром 3x2 та 2x4, заповніть їх випадковими цілими числами\n",
        "# в діапазоні від 1 до 10 та перемножте їх між собою.\n",
        "\n",
        "matrix1 = np.random.randint(1, 11, (3, 2))\n",
        "matrix2 = np.random.randint(1, 11, (2, 4))\n",
        "\n",
        "result = np.dot(matrix1, matrix2)\n",
        "\n",
        "print(\"Matrix 1 (3x2):\\n\", matrix1)\n",
        "print(\"\\nMatrix 2 (2x4):\\n\", matrix2)\n",
        "print(\"\\nProduct of Matrix 1 and Matrix 2 (3x4):\\n\", result)\n"
      ]
    },
    {
      "cell_type": "markdown",
      "source": [
        "8 Створіть матрицю розміром 2x2, заповніть її випадковими цілими числами в діапазоні від 1 до 15 та знайдіть її обернену матрицю."
      ],
      "metadata": {
        "id": "WVUlHAefTzcb"
      },
      "id": "WVUlHAefTzcb"
    },
    {
      "cell_type": "code",
      "execution_count": 10,
      "id": "3f9cd28b-ea65-4c59-8072-f3fc109ac53e",
      "metadata": {
        "trusted": true,
        "colab": {
          "base_uri": "https://localhost:8080/"
        },
        "id": "3f9cd28b-ea65-4c59-8072-f3fc109ac53e",
        "outputId": "eb9d9337-12d0-48ce-f532-7a7fc93a0d7a"
      },
      "outputs": [
        {
          "output_type": "stream",
          "name": "stdout",
          "text": [
            "Original Matrix (2x2):\n",
            " [[14  9]\n",
            " [ 9  1]]\n",
            "\n",
            "Inverse Matrix (2x2):\n",
            " [[-0.01492537  0.13432836]\n",
            " [ 0.13432836 -0.20895522]]\n"
          ]
        }
      ],
      "source": [
        "matrix = np.random.randint(1, 16, (2, 2))\n",
        "\n",
        "inverse_matrix = np.linalg.inv(matrix)\n",
        "\n",
        "print(\"Original Matrix (2x2):\\n\", matrix)\n",
        "print(\"\\nInverse Matrix (2x2):\\n\", inverse_matrix)\n"
      ]
    },
    {
      "cell_type": "markdown",
      "source": [
        "9 Створіть матрицю розміром 3x3, заповніть її випадковими цілими числами в діапазоні від 7 до 15 та транспонуйте її."
      ],
      "metadata": {
        "id": "BEHX912EUCSm"
      },
      "id": "BEHX912EUCSm"
    },
    {
      "cell_type": "code",
      "execution_count": 11,
      "id": "bcae7280-858c-411b-83a7-c4d0fc8f2adb",
      "metadata": {
        "trusted": true,
        "colab": {
          "base_uri": "https://localhost:8080/"
        },
        "id": "bcae7280-858c-411b-83a7-c4d0fc8f2adb",
        "outputId": "089029a5-cfc9-4e7e-dcd1-88900194cfc0"
      },
      "outputs": [
        {
          "output_type": "stream",
          "name": "stdout",
          "text": [
            "Original Matrix (3x3):\n",
            " [[10  7 11]\n",
            " [11  8  9]\n",
            " [14 10  7]]\n",
            "\n",
            "Transposed Matrix (3x3):\n",
            " [[10 11 14]\n",
            " [ 7  8 10]\n",
            " [11  9  7]]\n"
          ]
        }
      ],
      "source": [
        "matrix = np.random.randint(7, 16, (3, 3))\n",
        "\n",
        "transposed_matrix = np.transpose(matrix)\n",
        "\n",
        "print(\"Original Matrix (3x3):\\n\", matrix)\n",
        "print(\"\\nTransposed Matrix (3x3):\\n\", transposed_matrix)\n"
      ]
    },
    {
      "cell_type": "code",
      "execution_count": 12,
      "id": "98d75cf3-9b10-4d4b-8507-441443a79790",
      "metadata": {
        "trusted": true,
        "colab": {
          "base_uri": "https://localhost:8080/"
        },
        "id": "98d75cf3-9b10-4d4b-8507-441443a79790",
        "outputId": "3aae0739-591d-4a89-bd43-9cf290f1a270"
      },
      "outputs": [
        {
          "output_type": "stream",
          "name": "stdout",
          "text": [
            "Matrix (3x4):\n",
            " [[0.94157492 0.97968592 0.24840885 0.16443445]\n",
            " [0.90774552 0.90678436 0.36447322 0.51223884]\n",
            " [0.57085372 0.11747525 0.29394658 0.78635881]]\n",
            "\n",
            "Vector (4x1):\n",
            " [[3]\n",
            " [6]\n",
            " [9]\n",
            " [4]]\n",
            "\n",
            "Product of Matrix and Vector:\n",
            " [[11.5962577 ]\n",
            " [13.49315702]\n",
            " [ 8.20836713]]\n"
          ]
        }
      ],
      "source": [
        "#10 Створіть матрицю розміром 3x4 та вектор розміром 4x1, заповніть матрицю випадковими дійсними числами від 0 до 1,\n",
        "# а вектор - випадковими цілими числами в діапазоні від 1 до 10 і знайдіть добуток матриці на вектор.\n",
        "\n",
        "matrix = np.random.rand(3, 4)\n",
        "vector = np.random.randint(1, 11, (4, 1))\n",
        "\n",
        "result = np.dot(matrix, vector)\n",
        "\n",
        "print(\"Matrix (3x4):\\n\", matrix)\n",
        "print(\"\\nVector (4x1):\\n\", vector)\n",
        "print(\"\\nProduct of Matrix and Vector:\\n\", result)\n"
      ]
    },
    {
      "cell_type": "code",
      "execution_count": 13,
      "id": "04f1dc56-d4b5-4493-b88b-bbe9d95c6290",
      "metadata": {
        "trusted": true,
        "colab": {
          "base_uri": "https://localhost:8080/"
        },
        "id": "04f1dc56-d4b5-4493-b88b-bbe9d95c6290",
        "outputId": "078d2b28-1531-488d-c0b6-2120886ebe19"
      },
      "outputs": [
        {
          "output_type": "stream",
          "name": "stdout",
          "text": [
            "Matrix (2x3):\n",
            " [[0.81220881 0.76882025 0.69442836]\n",
            " [0.63343066 0.3236342  0.85062318]]\n",
            "\n",
            "Vector (3x1):\n",
            " [[9]\n",
            " [7]\n",
            " [4]]\n",
            "\n",
            "Product of Matrix and Vector:\n",
            " [[15.46933445]\n",
            " [11.3688081 ]]\n"
          ]
        }
      ],
      "source": [
        "#11 Створіть матрицю розміром 2x3 та вектор розміром 3x1, заповніть матрицю випадковими дійсними числами від 0 до 1,\n",
        "# а вектор - випадковими цілими числами в діапазоні від 1 до 10, і знайдіть добуток матриці на вектор.\n",
        "\n",
        "matrix = np.random.rand(2, 3)\n",
        "vector = np.random.randint(1, 11, (3, 1))\n",
        "\n",
        "result = np.dot(matrix, vector)\n",
        "\n",
        "print(\"Matrix (2x3):\\n\", matrix)\n",
        "print(\"\\nVector (3x1):\\n\", vector)\n",
        "print(\"\\nProduct of Matrix and Vector:\\n\", result)\n"
      ]
    },
    {
      "cell_type": "code",
      "execution_count": 14,
      "id": "f455c7f6-b10e-4a95-a718-3cb9903d870b",
      "metadata": {
        "trusted": true,
        "colab": {
          "base_uri": "https://localhost:8080/"
        },
        "id": "f455c7f6-b10e-4a95-a718-3cb9903d870b",
        "outputId": "73a48739-5981-4c6b-fd4f-3e57531174de"
      },
      "outputs": [
        {
          "output_type": "stream",
          "name": "stdout",
          "text": [
            "Matrix 1 (2x2):\n",
            " [[10  2]\n",
            " [ 9  4]]\n",
            "\n",
            "Matrix 2 (2x2):\n",
            " [[ 6 10]\n",
            " [ 3  2]]\n",
            "\n",
            "Sum of all elements in both matrices:\n",
            " 46\n"
          ]
        }
      ],
      "source": [
        "#12 Створіть дві матриці розміром 2x2, заповніть їх випадковими цілими числами в\n",
        "# діапазоні від 1 до 10 та знайдіть суму всіх елементів обох матриць.\n",
        "\n",
        "matrix1 = np.random.randint(1, 11, (2, 2))\n",
        "matrix2 = np.random.randint(1, 11, (2, 2))\n",
        "\n",
        "total_sum = np.sum(matrix1) + np.sum(matrix2)\n",
        "\n",
        "print(\"Matrix 1 (2x2):\\n\", matrix1)\n",
        "print(\"\\nMatrix 2 (2x2):\\n\", matrix2)\n",
        "print(\"\\nSum of all elements in both matrices:\\n\", total_sum)\n"
      ]
    },
    {
      "cell_type": "code",
      "execution_count": 15,
      "id": "7972bfb7-8fac-4a42-8dad-518a643ca007",
      "metadata": {
        "trusted": true,
        "colab": {
          "base_uri": "https://localhost:8080/"
        },
        "id": "7972bfb7-8fac-4a42-8dad-518a643ca007",
        "outputId": "a47bf754-3f56-4fe2-b07a-b77680d769cd"
      },
      "outputs": [
        {
          "output_type": "stream",
          "name": "stdout",
          "text": [
            "Matrix 1 (10x10):\n",
            " [[-1.70498177  0.63627161  1.13929913  1.33056735  1.00792789  0.91933787\n",
            "   1.42793597  0.97042424  1.37907707  0.52715496]\n",
            " [ 0.41134434 -1.46803688 -0.72936732  1.18832348  0.39568931  0.80502198\n",
            "   0.02137957  1.2155874   0.70604713 -1.28867605]\n",
            " [-0.08892303  1.05682597 -1.22427091 -1.10194408  0.56177515  1.31644039\n",
            "  -0.84268989 -1.44363437  0.12348813  0.50978933]\n",
            " [-1.01020293  0.11208092  0.82535295 -1.32653622  0.20438807  0.57901996\n",
            "  -0.5887137   1.36994633 -0.58513008  1.41280264]\n",
            " [-1.16293353  1.77955857  1.97673667  1.2514723  -1.0839764   0.53853618\n",
            "  -0.46649375  0.60552449  0.62324165  0.50279925]\n",
            " [-1.70053564  0.48422222  0.43532645 -0.68965416 -1.305002    0.39534028\n",
            "   0.77439998  1.5431796   1.40113597  1.35593509]\n",
            " [-0.76780481  1.79047896 -0.3311642   0.28451471 -1.63349189  0.25139458\n",
            "   1.0706887   0.30036142 -1.37534609 -0.67290452]\n",
            " [ 0.23287335 -1.76880118  0.65538125 -0.33361214 -0.32104165 -0.46130752\n",
            "  -1.23091352  0.41231917 -1.79232371 -0.35788537]\n",
            " [ 0.43017187  1.48452271  1.94508138 -0.11609926 -0.14747823 -0.34092539\n",
            "  -0.7765441   1.35051017  0.40426168 -0.71046646]\n",
            " [ 0.16261195  0.14174901 -0.67705278 -0.42671107  0.74272816 -0.8467699\n",
            "   1.3959307   1.14582094 -0.06265126 -0.56703735]]\n",
            "\n",
            "Matrix 2 (10x10):\n",
            " [[ 1.02331895 -0.2213489   0.12411049  1.35559841  0.25009563 -1.88181237\n",
            "  -1.51718772  0.66698348 -1.17685079 -0.04583606]\n",
            " [-0.61326776  0.44695976  1.77797507 -1.65778859  1.8709891  -1.04658823\n",
            "  -0.38589166  1.53652863  0.61940817  1.30633037]\n",
            " [ 1.94118607  1.7554345   1.27849704  0.88393307  1.69345347 -0.08319363\n",
            "   0.93667023 -1.48902329  0.98600261  1.36547916]\n",
            " [-0.95912297 -1.82373486 -0.63399515 -1.39528718  0.89028685  0.52897187\n",
            "  -1.65320296  1.29324776  1.9396239  -1.2419259 ]\n",
            " [ 1.89368314 -0.7262548   1.07665585 -1.33786602 -0.56079298 -0.51079247\n",
            "   1.50046856  0.21386033  1.34889908 -1.83900163]\n",
            " [-0.57032955  0.57956824  0.41350509 -0.91706955  1.58756342 -0.09105208\n",
            "  -1.84957489 -0.38576009 -1.97669029  0.45010017]\n",
            " [ 1.7589522   0.41960237 -1.31236071 -1.3649914   1.46017141  1.03890104\n",
            "   1.07610383  0.59451753 -0.36177524 -1.49960489]\n",
            " [-0.02446574  1.64103211  1.90114433 -0.42903696 -1.98539002 -0.65195113\n",
            "  -1.70791607 -1.41228657  0.4178568   1.17658072]\n",
            " [-0.58327192  1.98265733  0.60259884  0.61074422 -0.81217514  0.97885482\n",
            "  -0.51141987  0.79733717 -1.59363978 -0.74806079]\n",
            " [ 1.0766389   1.09764697 -1.23839408  1.24608822  0.86705621 -0.62989554\n",
            "   1.0537428   0.59261664 -1.448287   -1.47052081]]\n",
            "\n",
            "Product of Matrix 1 and Matrix 2 (10x10):\n",
            " [[ 2.43594695e+00  5.54048311e+00  3.14718275e+00 -7.27342629e+00\n",
            "   4.26763527e+00  4.42172075e+00  7.50077623e-01  6.16083142e-01\n",
            "   2.57480264e+00 -3.43361629e+00]\n",
            " [-2.73555836e+00 -2.02642659e+00  8.18237148e-01 -2.30439699e+00\n",
            "  -5.83786851e+00  1.90876822e+00 -7.37266326e+00 -1.48918279e+00\n",
            "   3.76198240e-01 -2.00863933e+00]\n",
            " [-2.71583219e+00 -1.21069838e+00 -4.49827700e-02 -8.95731240e-01\n",
            "   2.65309914e+00 -1.96111562e+00  8.42979647e-01  3.51312845e+00\n",
            "  -5.66313754e+00 -6.36002094e-01]\n",
            " [ 2.62212583e+00  6.72069646e+00  3.70447774e+00  1.83971783e+00\n",
            "  -9.00927907e-01 -2.11120432e+00  2.50597796e+00 -5.53978823e+00\n",
            "  -1.69797719e+00  3.70677493e+00]\n",
            " [-2.66189184e+00  5.92535869e+00  5.32541965e+00 -2.18498201e+00\n",
            "   7.00962839e+00  7.42090423e-01 -3.08734895e+00 -1.43435175e-01\n",
            "   3.02099957e+00  5.96518750e+00]\n",
            " [-1.26038325e+00  1.09153215e+01  1.48477482e+00  4.48666902e-01\n",
            "   6.80042126e-02  3.23873085e+00  1.61695792e-01 -2.16019745e+00\n",
            "  -4.98102990e+00  2.35158784e+00]\n",
            " [-4.08251473e+00 -1.32124538e+00  4.48964287e-05 -6.01276038e+00\n",
            "   5.66621646e+00  5.54620823e-01 -2.58906425e+00  1.37070898e+00\n",
            "   2.44213134e+00  5.45190523e+00]\n",
            " [ 1.05528363e+00 -2.90369219e+00 -8.40543531e-01  5.10801896e+00\n",
            "  -4.46122209e+00 -1.68862736e+00  3.76881130e-01 -6.81580374e+00\n",
            "   3.10051128e+00  3.56873552e+00]\n",
            " [ 9.32418733e-01  6.01608013e+00  9.66352848e+00  3.55541314e-01\n",
            "   8.57594582e-01 -3.32403159e+00 -2.89999684e+00 -2.84618961e+00\n",
            "   3.81088063e+00  8.33331357e+00]\n",
            " [ 2.91727673e+00  3.06319312e-01  1.13751829e+00 -3.37663751e+00\n",
            "  -3.65876370e+00  7.30328947e-02  1.43018674e+00  9.37430620e-02\n",
            "   1.97171515e+00 -1.82833647e+00]]\n"
          ]
        }
      ],
      "source": [
        "#13 Створіть дві матриці розміром 10x10, заповніть їх випадковими дійсними числами в\n",
        "# діапазоні від -2 до 2 та знайдіть їх добуток.\n",
        "\n",
        "matrix1 = np.random.uniform(-2, 2, (10, 10))\n",
        "matrix2 = np.random.uniform(-2, 2, (10, 10))\n",
        "\n",
        "product_matrix = np.dot(matrix1, matrix2)\n",
        "\n",
        "print(\"Matrix 1 (10x10):\\n\", matrix1)\n",
        "print(\"\\nMatrix 2 (10x10):\\n\", matrix2)\n",
        "print(\"\\nProduct of Matrix 1 and Matrix 2 (10x10):\\n\", product_matrix)\n"
      ]
    },
    {
      "cell_type": "code",
      "execution_count": 16,
      "id": "518dc695-e359-4a10-80aa-e062df4506b7",
      "metadata": {
        "trusted": true,
        "colab": {
          "base_uri": "https://localhost:8080/"
        },
        "id": "518dc695-e359-4a10-80aa-e062df4506b7",
        "outputId": "6872f140-352d-4791-bf6f-7d52d87b36cd"
      },
      "outputs": [
        {
          "output_type": "stream",
          "name": "stdout",
          "text": [
            "Matrix (3x3):\n",
            " [[-0.02631186  0.79077519 -0.28183089]\n",
            " [-0.22091835  0.50150578  0.4616265 ]\n",
            " [-0.76181112  0.64434366  0.65392462]]\n",
            "\n",
            "Average value of the elements in the matrix:\n",
            " 0.1957003942420029\n"
          ]
        }
      ],
      "source": [
        "#14 Створіть матрицю розміром 3x3, заповніть її випадковими дійсними числами в\n",
        "# діапазоні від -1 до 1 та знайдіть середнє арифметичне значення елементів матриці.\n",
        "\n",
        "matrix = np.random.uniform(-1, 1, (3, 3))\n",
        "\n",
        "average_value = np.mean(matrix)\n",
        "\n",
        "print(\"Matrix (3x3):\\n\", matrix)\n",
        "print(\"\\nAverage value of the elements in the matrix:\\n\", average_value)\n"
      ]
    },
    {
      "cell_type": "code",
      "execution_count": 17,
      "id": "7311ab42-f6c6-4994-8a79-dd9bbe490ed7",
      "metadata": {
        "trusted": true,
        "colab": {
          "base_uri": "https://localhost:8080/"
        },
        "id": "7311ab42-f6c6-4994-8a79-dd9bbe490ed7",
        "outputId": "0d0a74e4-e61d-4396-8997-d8a4deb96c36"
      },
      "outputs": [
        {
          "output_type": "stream",
          "name": "stdout",
          "text": [
            "Matrix (3x3):\n",
            " [[0.22522298 0.96818667 0.51751305]\n",
            " [0.17562963 0.77579897 0.45100008]\n",
            " [0.14524221 0.74217851 0.82815767]]\n",
            "\n",
            "Column vector with sum of squares of each row:\n",
            " [[1.25593057]\n",
            " [0.83611088]\n",
            " [1.25776936]]\n"
          ]
        }
      ],
      "source": [
        "#15 Створіть матрицю розміром 3x3, заповніть її випадковими дійсними числами в діапазоні від 0 до 1 та знайдіть вектор-стовпчик,\n",
        "# що містить суму квадратів елементів кожного рядка матриці\n",
        "\n",
        "matrix = np.random.uniform(0, 1, (3, 3))\n",
        "\n",
        "sum_of_squares = np.sum(matrix**2, axis=1)\n",
        "column_vector = sum_of_squares[:, np.newaxis]\n",
        "\n",
        "print(\"Matrix (3x3):\\n\", matrix)\n",
        "print(\"\\nColumn vector with sum of squares of each row:\\n\", column_vector)\n"
      ]
    },
    {
      "cell_type": "code",
      "execution_count": 18,
      "id": "6fc6c91a-0eed-42de-8273-4cad5d471fff",
      "metadata": {
        "trusted": true,
        "id": "6fc6c91a-0eed-42de-8273-4cad5d471fff"
      },
      "outputs": [],
      "source": [
        "# Висновок: виконавши дану лабораторну роботу,я освоїв методи та дії над матрицями."
      ]
    }
  ],
  "metadata": {
    "kernelspec": {
      "display_name": "Python 3",
      "name": "python3"
    },
    "language_info": {
      "name": "python"
    },
    "colab": {
      "provenance": [],
      "toc_visible": true,
      "include_colab_link": true
    }
  },
  "nbformat": 4,
  "nbformat_minor": 5
}